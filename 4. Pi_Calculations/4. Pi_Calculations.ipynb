{
 "cells": [
  {
   "cell_type": "markdown",
   "id": "557dc84b",
   "metadata": {},
   "source": [
    "# Exploring the Number Pi\n",
    "\n",
    "This Jupyter notebook is dedicated to exploring the mathematical constant Pi, which is the ratio of a circle's circumference to its diameter. Pi is denoted by the Greek letter π and is approximately equal to 3.14159. It is a mathematical constant that appears in many areas of mathematics and science, including geometry, trigonometry, calculus, and physics.\n",
    "\n",
    "The history of Pi goes back to ancient civilizations such as the Egyptians and Babylonians, who approximated Pi using simple geometric constructions. However, the Greek mathematician Archimedes is credited with one of the earliest and most accurate approximations of Pi. He used a method of inscribing and circumscribing regular polygons around a circle to calculate Pi to two decimal places.\n",
    "\n",
    "In the following centuries, mathematicians continued to refine methods for approximating Pi. In the 17th century, the German mathematician Johann Lambert proved that Pi is irrational, meaning that it cannot be expressed as a fraction of two integers. Later, in the 19th century, the Indian mathematician Srinivasa Ramanujan discovered several elegant and rapidly converging formulas for Pi.\n",
    "\n",
    "Today, Pi is used in a wide variety of fields, including physics, engineering, and computer science. It appears in formulas for calculating the area and volume of circles and spheres, as well as in calculations involving trigonometric functions such as sine and cosine. Pi is also used in numerical analysis, where it is used to approximate many other mathematical constants and functions.\n",
    "\n",
    "In this notebook, we will explore several different methods for approximating Pi, including Ramanujan's formula, Machin's formula, Taylor series expansion, and Monte Carlo simulation. Each method provides a different perspective on the number Pi and highlights its importance in mathematics and science."
   ]
  },
  {
   "cell_type": "code",
   "execution_count": 1,
   "id": "6bcab9b1",
   "metadata": {},
   "outputs": [],
   "source": [
    "import random\n",
    "import math\n",
    "from decimal import Decimal, getcontext"
   ]
  },
  {
   "cell_type": "markdown",
   "id": "b3270d5f",
   "metadata": {},
   "source": [
    "## Ramanujan's Pi Formula\n",
    "\n",
    "In this code, we will use Ramanujan's formula to estimate the mathematical constant Pi (π) using Python programming language. Ramanujan's formula is a rapidly converging infinite series that was discovered by the Indian mathematician Srinivasa Ramanujan. \n",
    "\n",
    "The formula we are using is:\n",
    "$$\n",
    "\\frac{1}{\\pi} = \\frac{2\\sqrt{2}}{9801} \\sum_{k=0}^{\\infty} \\frac{(4k)!(1103+26390k)}{(k!)^4 396^{4k}}\n",
    "$$\n",
    "\n",
    "To compute this formula, we define two functions in Python. The first function, `factorial(n)`, computes the factorial of a non-negative integer `n`. The second function, `ramanujan_series_term(k)`, computes the value of each term in the infinite series. Finally, we define the `ramanujan_pi(precision)` function that calculates an estimate of $\\pi$ with a given level of precision.\n",
    "\n",
    "The algorithm starts by setting the precision of the calculation, i.e., the number of decimal places we want to compute. Then, it calculates the sum of the infinite series until the terms become smaller than the desired precision. Finally, it calculates the estimate of $\\pi$ using the constant factor and the sum of the series.\n",
    "\n",
    "By increasing the precision parameter, we can get a more accurate estimate of $\\pi$. However, the computation time will also increase since we need to compute more terms in the infinite series."
   ]
  },
  {
   "cell_type": "code",
   "execution_count": 6,
   "id": "cbab5f08",
   "metadata": {},
   "outputs": [],
   "source": [
    "def factorial(n):\n",
    "    return 1 if n == 0 else n * factorial(n - 1)\n",
    "\n",
    "def ramanujan_series_term(k):\n",
    "    numerator = Decimal(factorial(4 * k)) * (1103 + 26390 * k)\n",
    "    denominator = Decimal(factorial(k)) ** 4 * 396 ** (4 * k)\n",
    "    return Decimal(numerator / denominator)\n",
    "\n",
    "\n",
    "def ramanujan_pi(precision=100):\n",
    "    getcontext().prec = precision + 10\n",
    "    series_sum = Decimal(0)\n",
    "    k = 0\n",
    "\n",
    "    while True:\n",
    "        term = ramanujan_series_term(k)\n",
    "        if term < 10 ** (-precision):\n",
    "            break\n",
    "        series_sum += term\n",
    "        k += 1\n",
    "\n",
    "    constant = Decimal(2 * math.sqrt(2) / 9801)\n",
    "    pi_estimate = Decimal(1 / (constant * series_sum))\n",
    "    return round(pi_estimate, precision)"
   ]
  },
  {
   "cell_type": "markdown",
   "id": "99c626a6",
   "metadata": {},
   "source": [
    "## Approximating pi with the Machin-like formula\n",
    "\n",
    "This code implements a formula for approximating the value of pi. The formula is known as the Machin-like formula, which is a variant of the Machin formula discovered by John Machin in the early 18th century. \n",
    "\n",
    "The Machin-like formula is given by:\n",
    "\n",
    "$$ \\frac{\\pi}{4} = 4 \\arctan\\frac{1}{5} - \\arctan\\frac{1}{239} $$\n",
    "\n",
    "where $\\arctan(x)$ is the inverse tangent function, which returns the angle whose tangent is $x$. \n",
    "\n",
    "The formula is derived by using the identity:\n",
    "\n",
    "$$ \\arctan(x) = \\sum_{n=0}^{\\infty} \\frac{(-1)^n x^{2n+1}}{2n+1} $$\n",
    "\n",
    "which expresses the inverse tangent function as an infinite series. By truncating the series after a finite number of terms, we obtain an approximation for the inverse tangent function, and hence an approximation for pi using the Machin-like formula.\n",
    "\n",
    "The `arctan_term` function computes the $n$-th term of the series expansion of the arctan function. The `arctan_series` function computes the sum of the first `num_terms` terms of the series expansion of the arctan function for a given input `x`. Finally, the `machin_pi` function uses the Machin-like formula to compute an approximation of pi by taking the difference between two arctan series with different input values."
   ]
  },
  {
   "cell_type": "code",
   "execution_count": 2,
   "id": "bcb62a36",
   "metadata": {},
   "outputs": [],
   "source": [
    "def arctan_term(x, n):\n",
    "    \"\"\"Calculate the arctan term in the Machin-like formula.\"\"\"\n",
    "    return (-1) ** n * (x ** (2 * n + 1)) / (2 * n + 1)\n",
    "\n",
    "\n",
    "def arctan_series(x, num_terms):\n",
    "    \"\"\"Calculate the arctan series for a given x and number of terms.\"\"\"\n",
    "    return sum(arctan_term(x, n) for n in range(num_terms))\n",
    "\n",
    "\n",
    "def machin_pi(num_terms=1000):\n",
    "    \"\"\"Compute an approximation of pi using Machin-like formula.\n",
    "    \n",
    "    Parameters:\n",
    "    num_terms (int): Number of terms to use in the series approximation.\n",
    "    \n",
    "    Returns:\n",
    "    float: Approximation of pi.\n",
    "    \"\"\"\n",
    "    pi_over_4 = 4 * arctan_series(1/5, num_terms) - arctan_series(1/239, num_terms)\n",
    "    return 4 * pi_over_4"
   ]
  },
  {
   "cell_type": "markdown",
   "id": "ad642729",
   "metadata": {},
   "source": [
    "## Monte Carlo Estimation of Pi\n",
    "\n",
    "This code uses the Monte Carlo method to estimate the value of pi. \n",
    "\n",
    "The Monte Carlo method is a statistical technique used to estimate numerical values by using random sampling. In this case, we are estimating the value of pi by randomly generating points within a unit square and counting the number of points that fall inside a quarter circle inscribed within the square. \n",
    "\n",
    "The formula for the area of a circle is given by:\n",
    "\n",
    "$$A_{circle} = \\pi r^2$$\n",
    "\n",
    "If we consider a circle of radius 1, its area is simply $\\pi$. Similarly, the area of a square of side length 2 that inscribes this circle is given by:\n",
    "\n",
    "$$A_{square} = (2r)^2 = 4$$\n",
    "\n",
    "Now, if we randomly generate points within this square and count the number of points that fall inside the quarter circle, we can estimate the area of the quarter circle as:\n",
    "\n",
    "$$A_{quarter circle} \\approx \\frac{N_{inside}}{N_{total}}A_{square}$$\n",
    "\n",
    "where $N_{inside}$ is the number of points inside the quarter circle and $N_{total}$ is the total number of points generated. We can then estimate the value of $\\pi$ as:\n",
    "\n",
    "$$\\pi \\approx \\frac{4N_{inside}}{N_{total}}$$\n",
    "\n",
    "This is the method used in the `monte_carlo_pi` function to estimate the value of pi. The function takes an argument `iterations` which specifies the number of random points to generate in the simulation. The larger the value of `iterations`, the more accurate the estimate of pi will be. The function returns an estimate of pi using the formula given above.\n",
    "\n",
    "Note that this method is just one of many ways to estimate the value of pi. However, it is a simple and intuitive method that demonstrates the power of random sampling in statistical estimation.\n"
   ]
  },
  {
   "cell_type": "code",
   "execution_count": 3,
   "id": "a797c12e",
   "metadata": {},
   "outputs": [],
   "source": [
    "def monte_carlo_pi(iterations):\n",
    "    \"\"\"Estimate the value of Pi using the Monte Carlo method.\n",
    "    \n",
    "    :param iterations: The number of random points to generate in the simulation.\n",
    "    :type iterations: int\n",
    "    :return: The estimated value of Pi.\n",
    "    :rtype: float\n",
    "    \"\"\"\n",
    "\n",
    "    if iterations < 1:\n",
    "        raise ValueError(\"Iterations must be greater than 0.\")\n",
    "\n",
    "    points_inside_circle = 0\n",
    "\n",
    "    for _ in range(iterations):\n",
    "        x = random.random()\n",
    "        y = random.random()\n",
    "\n",
    "        distance_to_origin = math.sqrt(x**2 + y**2)\n",
    "\n",
    "        if distance_to_origin <= 1:\n",
    "            points_inside_circle += 1\n",
    "\n",
    "    return (4 * points_inside_circle) / iterations"
   ]
  },
  {
   "cell_type": "markdown",
   "id": "c3b0d81a",
   "metadata": {},
   "source": [
    "## Estimating Pi using Taylor series expansion of arctan(x)\n",
    "\n",
    "In this code, we estimate the value of pi using the Taylor series expansion of arctan(x) with x = 1. The formula for the Taylor series expansion of arctan(x) is given by:\n",
    "\n",
    "$$ \\arctan(x) = \\sum_{n=0}^{\\infty} (-1)^{n}\\frac{x^{2n+1}}{2n+1} $$\n",
    "\n",
    "Substituting x = 1, we get:\n",
    "\n",
    "$$ \\arctan(1) = \\sum_{n=0}^{\\infty} (-1)^{n}\\frac{1^{2n+1}}{2n+1} = \\frac{\\pi}{4} $$\n",
    "\n",
    "Rearranging, we get:\n",
    "\n",
    "$$ \\pi = 4 \\arctan(1) = 4 \\sum_{n=0}^{\\infty} (-1)^{n}\\frac{1^{2n+1}}{2n+1} $$\n",
    "\n",
    "Therefore, we can estimate the value of pi by computing the sum of the first num_terms terms in the above series. This is implemented in the `taylor_pi` function, which takes the number of terms to include in the series as input and returns the estimated value of pi. "
   ]
  },
  {
   "cell_type": "code",
   "execution_count": 4,
   "id": "a4fd0bcf",
   "metadata": {},
   "outputs": [],
   "source": [
    "def taylor_pi(num_terms):\n",
    "    \"\"\"\n",
    "    Estimate the value of pi using the Taylor series expansion of arctan(x) with x = 1.\n",
    "\n",
    "    :param num_terms: The number of terms to include in the series.\n",
    "    :return: The estimated value of pi.\n",
    "    \"\"\"\n",
    "    taylor_sum = 0\n",
    "    for i in range(num_terms):\n",
    "        term = (-1) ** i / (2 * i + 1)\n",
    "        taylor_sum += term\n",
    "\n",
    "    pi_estimate = 4 * taylor_sum\n",
    "    return pi_estimate"
   ]
  },
  {
   "cell_type": "markdown",
   "id": "e2a95337",
   "metadata": {},
   "source": [
    "## Results output"
   ]
  },
  {
   "cell_type": "code",
   "execution_count": 7,
   "id": "74fdd8f6",
   "metadata": {},
   "outputs": [
    {
     "name": "stdout",
     "output_type": "stream",
     "text": [
      "Estimated value of pi using 100000 terms: \n",
      "   Monte Carlo method: 3.1460800000\n",
      "   Taylor method: 3.1415826536\n",
      "\n",
      "Machin method: 3.1415926535897940\n",
      "Ramanujan method (presicion 50): 3.14159265358979278659337618179226385752433139578925\n",
      "Math library pi constant: 3.14159265358979311599796346854418516159057617187500\n"
     ]
    }
   ],
   "source": [
    "num_terms = 100000\n",
    "# Example usage:\n",
    "print(f\"Estimated value of pi using {num_terms} terms: \")\n",
    "print(f\"   Monte Carlo method: {monte_carlo_pi(num_terms):.10f}\")\n",
    "print(f\"   Taylor method: {taylor_pi(num_terms):.10f}\\n\")\n",
    "print(f\"Machin method: {machin_pi():.16f}\")\n",
    "print(f\"Ramanujan method (presicion 50): {ramanujan_pi(precision=50)}\")\n",
    "print(f\"Math library pi constant: {math.pi:.50f}\")"
   ]
  }
 ],
 "metadata": {
  "kernelspec": {
   "display_name": "Python 3 (ipykernel)",
   "language": "python",
   "name": "python3"
  },
  "language_info": {
   "codemirror_mode": {
    "name": "ipython",
    "version": 3
   },
   "file_extension": ".py",
   "mimetype": "text/x-python",
   "name": "python",
   "nbconvert_exporter": "python",
   "pygments_lexer": "ipython3",
   "version": "3.8.13"
  }
 },
 "nbformat": 4,
 "nbformat_minor": 5
}
