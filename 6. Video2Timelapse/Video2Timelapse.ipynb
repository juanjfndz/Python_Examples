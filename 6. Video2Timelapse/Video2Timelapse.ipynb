{
 "cells": [
  {
   "cell_type": "markdown",
   "metadata": {
    "colab_type": "text",
    "id": "CmFjkzuNEVP0"
   },
   "source": [
    "# Video2Timelapse\n",
    "\n",
    "This Python script provides a simple and efficient way to convert a standard video file into a timelapse video. The conversion is done using the OpenCV library, which is a powerful computer vision library that can handle video and image processing.\n",
    "\n",
    "The script takes a URL or file path of a video and the desired length of the resulting timelapse video in minutes as inputs. It then saves a frame at a fixed interval and uses these frames to create the timelapse video. The resulting timelapse video is saved in the specified location in MP4 format.\n",
    "\n",
    "The script is written in Python and can be run in any Python environment, such as Jupyter Notebook, Google Colab, or any other Python IDE. It requires the installation of the OpenCV and NumPy libraries.\n",
    "\n",
    "This script can be useful for anyone who wants to create a timelapse video from a standard video file quickly and easily. It can be used by professional video editors, photographers, or anyone who wants to share a time-lapse video on social media.\n",
    "\n",
    "The script is well-documented and includes helpful comments and docstrings to guide the user. It is also fully customizable, and users can modify the parameters to suit their needs.\n",
    "\n",
    "Overall, this script is an excellent tool for anyone looking to create a timelapse video using Python and OpenCV. It is straightforward to use, efficient, and produces high-quality results."
   ]
  },
  {
   "cell_type": "code",
   "execution_count": 1,
   "metadata": {
    "colab": {
     "base_uri": "https://localhost:8080/",
     "height": 124
    },
    "colab_type": "code",
    "executionInfo": {
     "elapsed": 24856,
     "status": "ok",
     "timestamp": 1589453558823,
     "user": {
      "displayName": "JUAN JOSE FERNANDEZ MORALES",
      "photoUrl": "https://lh3.googleusercontent.com/a-/AOh14Gjj4p9JOabcnh4_NGhdizEnhSL32KrWLqSAVZFS=s64",
      "userId": "07742111600588841115"
     },
     "user_tz": -60
    },
    "id": "uyN9FlY-8fr2",
    "outputId": "5ed20118-132d-4b7a-aa80-82728f3f2ad4",
    "scrolled": true
   },
   "outputs": [
    {
     "name": "stdout",
     "output_type": "stream",
     "text": [
      "Go to this URL in a browser: https://accounts.google.com/o/oauth2/auth?client_id=947318989803-6bn6qk8qdgf4n4g3pfee6491hc0brc4i.apps.googleusercontent.com&redirect_uri=urn%3aietf%3awg%3aoauth%3a2.0%3aoob&response_type=code&scope=email%20https%3a%2f%2fwww.googleapis.com%2fauth%2fdocs.test%20https%3a%2f%2fwww.googleapis.com%2fauth%2fdrive%20https%3a%2f%2fwww.googleapis.com%2fauth%2fdrive.photos.readonly%20https%3a%2f%2fwww.googleapis.com%2fauth%2fpeopleapi.readonly\n",
      "\n",
      "Enter your authorization code:\n",
      "··········\n",
      "Mounted at /content/drive\n"
     ]
    }
   ],
   "source": [
    "from google.colab import drive\n",
    "drive.mount('/content/drive')"
   ]
  },
  {
   "cell_type": "markdown",
   "metadata": {},
   "source": [
    "## Libraries"
   ]
  },
  {
   "cell_type": "code",
   "execution_count": 0,
   "metadata": {
    "colab": {},
    "colab_type": "code",
    "id": "FlgPnBWJ9IUI"
   },
   "outputs": [],
   "source": [
    "import cv2\n",
    "import numpy as np\n",
    "from google.colab import output"
   ]
  },
  {
   "cell_type": "markdown",
   "metadata": {},
   "source": [
    "## Video_to_timepase function"
   ]
  },
  {
   "cell_type": "code",
   "execution_count": 0,
   "metadata": {
    "colab": {},
    "colab_type": "code",
    "id": "wcUb7FDPB3Ds"
   },
   "outputs": [],
   "source": [
    "def video_to_timelapse(url, time_lapse_minutes):\n",
    "    \"\"\"\n",
    "    Converts a video to a time-lapse video by saving a frame at a fixed interval.\n",
    "\n",
    "    Parameters:\n",
    "    url (str): The URL or file path of the video to convert.\n",
    "    time_lapse_minutes (int): The length of the resulting time-lapse video in minutes.\n",
    "\n",
    "    Returns:\n",
    "    None\n",
    "    \"\"\"\n",
    "    vidcap = cv2.VideoCapture(url)\n",
    "    frame_size = (int(vidcap.get(3)), int(vidcap.get(4)), 3)\n",
    "    reference_image = np.zeros(frame_size)\n",
    "\n",
    "    length = int(vidcap.get(cv2.CAP_PROP_FRAME_COUNT))\n",
    "    fps = vidcap.get(cv2.CAP_PROP_FPS)\n",
    "    if fps == 0:\n",
    "        print(\"ERROR FPS\")\n",
    "        fps = 1\n",
    "\n",
    "    total_frames = fps * 60 * time_lapse_minutes\n",
    "    time_lapse_frame_position = 1\n",
    "    video_frame_position_limit = int(length / total_frames)\n",
    "    video_frame_position = video_frame_position_limit\n",
    "\n",
    "    output_path = '/content/drive/My Drive/timelapse.mp4'\n",
    "    frame_array = []\n",
    "    out = cv2.VideoWriter(output_path, cv2.VideoWriter_fourcc(*'MP4V'), 60,\n",
    "                          (int(vidcap.get(3)), int(vidcap.get(4))))\n",
    "\n",
    "    while time_lapse_frame_position <= total_frames:\n",
    "        success, image = vidcap.read()\n",
    "        if not success:\n",
    "            print(\"Problem, next\")\n",
    "            continue\n",
    "\n",
    "        elif np.array_equal(reference_image, image):\n",
    "            video_frame_position += 1\n",
    "            vidcap.set(cv2.CAP_PROP_POS_FRAMES, video_frame_position_limit * video_frame_position)\n",
    "\n",
    "        else:\n",
    "            cv2.imwrite(f\"Frames/frame{time_lapse_frame_position}.jpg\", image)\n",
    "            out.write(image)\n",
    "            vidcap.set(cv2.CAP_PROP_POS_FRAMES, video_frame_position)\n",
    "            time_lapse_frame_position += 1\n",
    "            video_frame_position += video_frame_position_limit\n",
    "\n",
    "        output.clear()\n",
    "        print(f\"{(time_lapse_frame_position / total_frames) * 100:.2f} per cent complete\")\n",
    "\n",
    "    out.release()\n",
    "    output.clear()\n",
    "    print(\"Perfect!\")"
   ]
  },
  {
   "cell_type": "markdown",
   "metadata": {
    "colab_type": "text",
    "id": "7VzBrQ0pgE23"
   },
   "source": [
    "# Execution"
   ]
  },
  {
   "cell_type": "code",
   "execution_count": 4,
   "metadata": {
    "colab": {
     "base_uri": "https://localhost:8080/",
     "height": 34
    },
    "colab_type": "code",
    "executionInfo": {
     "elapsed": 940061,
     "status": "ok",
     "timestamp": 1589454897706,
     "user": {
      "displayName": "JUAN JOSE FERNANDEZ MORALES",
      "photoUrl": "https://lh3.googleusercontent.com/a-/AOh14Gjj4p9JOabcnh4_NGhdizEnhSL32KrWLqSAVZFS=s64",
      "userId": "07742111600588841115"
     },
     "user_tz": -60
    },
    "id": "8U0RJmuE1h2f",
    "outputId": "bfef35e9-d3a3-4d36-c94b-d06325da731a"
   },
   "outputs": [
    {
     "name": "stdout",
     "output_type": "stream",
     "text": [
      "Perfect!\n"
     ]
    }
   ],
   "source": [
    "video2timelapse(\"/content/drive/My Drive/RPReplay_Final1589449680.MP4\", 1)"
   ]
  }
 ],
 "metadata": {
  "accelerator": "GPU",
  "colab": {
   "collapsed_sections": [],
   "name": "Algot_video.ipynb",
   "provenance": [],
   "toc_visible": true
  },
  "kernelspec": {
   "display_name": "Python 3 (ipykernel)",
   "language": "python",
   "name": "python3"
  },
  "language_info": {
   "codemirror_mode": {
    "name": "ipython",
    "version": 3
   },
   "file_extension": ".py",
   "mimetype": "text/x-python",
   "name": "python",
   "nbconvert_exporter": "python",
   "pygments_lexer": "ipython3",
   "version": "3.8.13"
  }
 },
 "nbformat": 4,
 "nbformat_minor": 1
}
